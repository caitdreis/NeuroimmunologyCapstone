{
 "cells": [
  {
   "cell_type": "code",
   "execution_count": null,
   "metadata": {},
   "outputs": [
    {
     "name": "stderr",
     "output_type": "stream",
     "text": [
      "C:\\Users\\mkw5c\\Anaconda3\\lib\\site-packages\\sklearn\\cross_validation.py:44: DeprecationWarning: This module was deprecated in version 0.18 in favor of the model_selection module into which all the refactored classes and functions are moved. Also note that the interface of the new CV iterators are different from that of this module. This module will be removed in 0.20.\n",
      "  \"This module will be removed in 0.20.\", DeprecationWarning)\n",
      "C:\\Users\\mkw5c\\Anaconda3\\lib\\site-packages\\statsmodels\\compat\\pandas.py:56: FutureWarning: The pandas.core.datetools module is deprecated and will be removed in a future version. Please use the pandas.tseries module instead.\n",
      "  from pandas.core import datetools\n"
     ]
    }
   ],
   "source": [
    "# Data processing and functions\n",
    "import pandas as pd\n",
    "import numpy as np\n",
    "import scipy as sp\n",
    "\n",
    "# Analytics and modeling\n",
    "from sklearn.cross_validation import train_test_split\n",
    "from sklearn.metrics import mean_squared_error\n",
    "from sklearn.model_selection import cross_val_predict\n",
    "from sklearn import linear_model\n",
    "from sklearn.model_selection import cross_val_score\n",
    "from sklearn.decomposition import PCA\n",
    "from sklearn.preprocessing import MinMaxScaler\n",
    "from sklearn import manifold\n",
    "from sklearn.feature_selection import SelectKBest, f_regression\n",
    "from sklearn.pipeline import make_pipeline\n",
    "from sklearn.manifold import TSNE\n",
    "import statsmodels.api as sm\n",
    "import statsmodels.sandbox.tools.tools_pca as sm_pca\n",
    "from statsmodels.formula.api import ols as sm_ols\n",
    "from statsmodels.stats.anova import anova_lm as sm_anova\n",
    "from patsy.contrasts import Treatment\n",
    "from patsy import dmatrices\n",
    "\n",
    "# Graphing and visualizing\n",
    "import seaborn as sns\n",
    "import matplotlib as mpl\n",
    "import matplotlib.pyplot as plt\n",
    "import matplotlib.colors as colors\n",
    "from matplotlib import cm\n",
    "from pylab import savefig\n",
    "\n",
    "# Setting graphing preferences\n",
    "sns.set(style=\"darkgrid\", color_codes=True)\n",
    "\n",
    "# Printing\n",
    "import locale\n",
    "\n",
    "# Show plots locally\n",
    "locale.setlocale( locale.LC_ALL, '' )\n",
    "\n",
    "%matplotlib inline\n"
   ]
  },
  {
   "cell_type": "code",
   "execution_count": null,
   "metadata": {},
   "outputs": [],
   "source": [
    "brain = pd.read_csv(\"C:\\\\Users\\\\mkw5c\\\\OneDrive\\\\Documents\\\\Capstone\\\\r codes\\\\brain_clean.csv\")\n",
    "brain.shape"
   ]
  },
  {
   "cell_type": "code",
   "execution_count": null,
   "metadata": {},
   "outputs": [],
   "source": [
    "brain.columns"
   ]
  },
  {
   "cell_type": "code",
   "execution_count": null,
   "metadata": {
    "collapsed": true
   },
   "outputs": [],
   "source": [
    "response = brain[\"celltype\"]"
   ]
  },
  {
   "cell_type": "code",
   "execution_count": null,
   "metadata": {},
   "outputs": [],
   "source": [
    "genes = (brain.loc[:, \"Tspan12\":])\n",
    "genes.shape"
   ]
  },
  {
   "cell_type": "code",
   "execution_count": null,
   "metadata": {},
   "outputs": [],
   "source": [
    "n = len(genes.columns)\n",
    "print(n)\n",
    "pca = PCA(n_components = n)\n",
    "# default is the number of columns in the data \n",
    "# but can be set to any integer less than or equal to that value\n",
    "\n",
    "gene_pca = pca.fit_transform(genes)\n",
    "\n",
    "# Percentage of variance explained by the first two components\n",
    "\n",
    "percent_explained = pca.explained_variance_ratio_[:2].sum()*100\n",
    "\n",
    "print('Percent of explained variance (first two components): %0.0f'\n",
    "      % percent_explained)\n",
    "\n",
    "\n",
    "gene_pca.shape\n"
   ]
  },
  {
   "cell_type": "code",
   "execution_count": null,
   "metadata": {},
   "outputs": [],
   "source": [
    "#graph the percentage explained by each component\n",
    "var_explained = pd.DataFrame(pca.explained_variance_ratio_)\n",
    "\n",
    "plt.figure(figsize = (18, 10))\n",
    "var_explained[0:20].plot(kind = \"bar\")"
   ]
  },
  {
   "cell_type": "code",
   "execution_count": null,
   "metadata": {},
   "outputs": [],
   "source": [
    "# PCA plot with labels for Cell Source\n",
    "colors = ['navy', 'darkorange']\n",
    "celltypes = [\"sscortex\", \"ca1hippocampus\"]\n",
    "\n",
    "fig, ax = plt.subplots()\n",
    "for i, color in  zip(celltypes, colors):\n",
    "        ax.scatter(gene_pca[brain[\"celltype\"] == i, 0],\n",
    "                   gene_pca[brain[\"celltype\"] == i, 1], c = color, label=i)\n",
    "\n",
    "\n",
    "ax.legend(loc = 3)\n",
    "ax.grid(True)\n",
    "plt.xlabel(\"Component 1\")\n",
    "plt.ylabel(\"Component 2\")\n",
    "plt.title('Principal Component Plot of Celltype')"
   ]
  },
  {
   "cell_type": "code",
   "execution_count": null,
   "metadata": {
    "collapsed": true
   },
   "outputs": [],
   "source": [
    "pca_components1_sort = sorted(pca.components_[1, ],reverse = True)\n",
    "pca_components2_sort = sorted(pca.components_[2,], reverse = True)"
   ]
  },
  {
   "cell_type": "code",
   "execution_count": null,
   "metadata": {},
   "outputs": [],
   "source": [
    "pca_df = pd.DataFrame(pca.components_, columns = genes.columns)\n",
    "pca_df.shape"
   ]
  },
  {
   "cell_type": "markdown",
   "metadata": {},
   "source": [
    "Citation: https://stackoverflow.com/questions/40433682/get-both-the-top-n-values-and-the-names-of-columns-they-occur-in-within-each-ro/40434047#40434047"
   ]
  },
  {
   "cell_type": "code",
   "execution_count": null,
   "metadata": {
    "collapsed": true
   },
   "outputs": [],
   "source": [
    "tmp = pca_df.apply(lambda row: sorted(zip(pca_df.columns, row), key=lambda cv: -cv[1]), axis=1)"
   ]
  },
  {
   "cell_type": "code",
   "execution_count": null,
   "metadata": {
    "collapsed": true
   },
   "outputs": [],
   "source": [
    "# Slice the top-n columns within each row...\n",
    "tmp = tmp.iloc[0:20,0:20]"
   ]
  },
  {
   "cell_type": "code",
   "execution_count": null,
   "metadata": {},
   "outputs": [],
   "source": [
    "np.array(tmp)[1, 0:15]"
   ]
  },
  {
   "cell_type": "code",
   "execution_count": 1,
   "metadata": {},
   "outputs": [
    {
     "ename": "NameError",
     "evalue": "name 'np' is not defined",
     "output_type": "error",
     "traceback": [
      "\u001b[1;31m---------------------------------------------------------------------------\u001b[0m",
      "\u001b[1;31mNameError\u001b[0m                                 Traceback (most recent call last)",
      "\u001b[1;32m<ipython-input-1-633992bf55d7>\u001b[0m in \u001b[0;36m<module>\u001b[1;34m()\u001b[0m\n\u001b[1;32m----> 1\u001b[1;33m \u001b[0mnp\u001b[0m\u001b[1;33m.\u001b[0m\u001b[0marray\u001b[0m\u001b[1;33m(\u001b[0m\u001b[0mtmp\u001b[0m\u001b[1;33m)\u001b[0m\u001b[1;33m[\u001b[0m\u001b[1;36m2\u001b[0m\u001b[1;33m,\u001b[0m \u001b[1;36m0\u001b[0m\u001b[1;33m:\u001b[0m\u001b[1;36m15\u001b[0m\u001b[1;33m]\u001b[0m\u001b[1;33m\u001b[0m\u001b[0m\n\u001b[0m",
      "\u001b[1;31mNameError\u001b[0m: name 'np' is not defined"
     ]
    }
   ],
   "source": [
    "np.array(tmp)[2, 0:15]"
   ]
  },
  {
   "cell_type": "code",
   "execution_count": null,
   "metadata": {
    "collapsed": true
   },
   "outputs": [],
   "source": [
    "tmp.values.tolist()"
   ]
  },
  {
   "cell_type": "code",
   "execution_count": 164,
   "metadata": {},
   "outputs": [
    {
     "data": {
      "text/plain": [
       "<zip at 0x197d5a5a7c8>"
      ]
     },
     "execution_count": 164,
     "metadata": {},
     "output_type": "execute_result"
    }
   ],
   "source": [
    "zip(tmp.index, tmp.values.tolist())"
   ]
  },
  {
   "cell_type": "code",
   "execution_count": 121,
   "metadata": {},
   "outputs": [
    {
     "data": {
      "text/plain": [
       "<matplotlib.text.Text at 0x19703c91080>"
      ]
     },
     "execution_count": 121,
     "metadata": {},
     "output_type": "execute_result"
    },
    {
     "data": {
      "image/png": "[encoded data removed]",
      "text/plain": [
       "<matplotlib.figure.Figure at 0x19703f49ac8>"
      ]
     },
     "metadata": {},
     "output_type": "display_data"
    }
   ],
   "source": [
    "fig = plt.figure(figsize=(12, 6))\n",
    "Comp1 = fig.add_subplot(121)\n",
    "Comp2 = fig.add_subplot(122)\n",
    "\n",
    "Comp1.vlines(range(1,20), [0],pca_components1_sort[0:20])\n",
    "Comp1.set_xlabel('Genes')\n",
    "Comp1.set_title('Component 1 Loadings')\n",
    "\n",
    "Comp2.vlines(range(1,20), [0],pca_components2_sort[0:20])\n",
    "Comp2.set_xlabel('Genes')\n",
    "Comp2.set_title('Component 2 Loadings')"
   ]
  },
  {
   "cell_type": "code",
   "execution_count": 97,
   "metadata": {},
   "outputs": [
    {
     "name": "stdout",
     "output_type": "stream",
     "text": [
      "(2211, 2902)\n",
      "(691, 2902)\n",
      "(2211,)\n",
      "(691,)\n"
     ]
    }
   ],
   "source": [
    "model = linear_model.LogisticRegression()\n",
    "\n",
    "train = np.random.rand(len(gene_pca)) < 0.75\n",
    "x = gene_pca[train]\n",
    "x_test = gene_pca[~train]\n",
    "print(x.shape)\n",
    "print(x_test.shape)\n",
    "y = brain[\"celltype\"][train]\n",
    "y_test = brain[\"celltype\"][~train]\n",
    "print(y.shape)\n",
    "print(y_test.shape)"
   ]
  },
  {
   "cell_type": "code",
   "execution_count": 98,
   "metadata": {},
   "outputs": [
    {
     "data": {
      "text/plain": [
       "LogisticRegression(C=1.0, class_weight=None, dual=False, fit_intercept=True,\n",
       "          intercept_scaling=1, max_iter=100, multi_class='ovr', n_jobs=1,\n",
       "          penalty='l2', random_state=None, solver='liblinear', tol=0.0001,\n",
       "          verbose=0, warm_start=False)"
      ]
     },
     "execution_count": 98,
     "metadata": {},
     "output_type": "execute_result"
    }
   ],
   "source": [
    "model.fit(x, y)"
   ]
  },
  {
   "cell_type": "code",
   "execution_count": 99,
   "metadata": {},
   "outputs": [
    {
     "data": {
      "text/plain": [
       "0.82489146164978289"
      ]
     },
     "execution_count": 99,
     "metadata": {},
     "output_type": "execute_result"
    }
   ],
   "source": [
    "model.score(x_test, y_test)"
   ]
  },
  {
   "cell_type": "code",
   "execution_count": 10,
   "metadata": {
    "collapsed": true
   },
   "outputs": [],
   "source": [
    "components = 2\n",
    "\n",
    "tsne = TSNE(n_components= components, init='random',\n",
    "                         random_state=42, perplexity=100)\n",
    "\n",
    "gene_tsne = tsne.fit_transform(genes)"
   ]
  },
  {
   "cell_type": "code",
   "execution_count": 11,
   "metadata": {},
   "outputs": [
    {
     "data": {
      "text/plain": [
       "<matplotlib.text.Text at 0x1970011c7f0>"
      ]
     },
     "execution_count": 11,
     "metadata": {},
     "output_type": "execute_result"
    },
    {
     "data": {
      "image/png": "[encoded data removed]",
      "text/plain": [
       "<matplotlib.figure.Figure at 0x197000f08d0>"
      ]
     },
     "metadata": {},
     "output_type": "display_data"
    }
   ],
   "source": [
    "colors = ['navy', 'darkorange']\n",
    "celltypes = [\"sscortex\", \"ca1hippocampus\"]\n",
    "\n",
    "fig, ax = plt.subplots()\n",
    "for i, color in  zip(celltypes, colors):\n",
    "        ax.scatter(gene_tsne[brain[\"celltype\"] == i, 0],\n",
    "                   gene_tsne[brain[\"celltype\"] == i, 1], c = color, label=i)\n",
    "\n",
    "\n",
    "ax.legend(loc = 3)\n",
    "ax.grid(True)\n",
    "plt.xlabel(\"Component 1\")\n",
    "plt.ylabel(\"Component 2\")\n",
    "plt.title('TSNE Plot of Celltype')"
   ]
  }
 ],
 "metadata": {
  "kernelspec": {
   "display_name": "Python 3",
   "language": "python",
   "name": "python3"
  },
  "language_info": {
   "codemirror_mode": {
    "name": "ipython",
    "version": 3
   },
   "file_extension": ".py",
   "mimetype": "text/x-python",
   "name": "python",
   "nbconvert_exporter": "python",
   "pygments_lexer": "ipython3",
   "version": "3.6.1"
  }
 },
 "nbformat": 4,
 "nbformat_minor": 2
}
