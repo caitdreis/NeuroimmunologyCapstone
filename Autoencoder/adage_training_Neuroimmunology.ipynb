{
 "cells": [
  {
   "cell_type": "markdown",
   "metadata": {},
   "source": [
    "# ADAGE: Neuroimmunology\n",
    "\n",
    "This script trains a denoising autoencoder for gene expression data using Keras. It modifies the framework presented by the ADAGE (Analysis using denoising autoencoders of gene expression) model published by [Tan _et al_ 2015](https://doi.org/10.1128/mSystems.00025-15).\n",
    "\n",
    "An ADAGE model learns a non-linear, reduced dimensional representation of gene expression data by bottlenecking raw features into a smaller set. The model is then trained by minimizing the information lost between input and reconstructed input.\n",
    "\n",
    "The specific model trained in this notebook consists of gene expression input (5000 most variably expressed genes by median absolute deviation) compressed down into one length 100 vector. The hidden layer is then decoded back to the original 5000 dimensions. The encoding (compression) layer has a `relu` activation and the decoding layer has a `sigmoid` activation. The weights of each layer are glorot uniform initialized. We include an l1 regularization term (see [`keras.regularizers.l1`](https://keras.io/regularizers/) for more details) to induce sparsity in the model, as well as a term controlling the probability of input feature dropout. This is only active during training and is the denoising aspect of the model. See [`keras.layers.noise.Dropout`](https://keras.io/layers/core/) for more details.\n",
    "\n",
    "We train the autoencoder with the Adadelta optimizer and MSE reconstruction loss.\n",
    "\n",
    "Reference: G. Way, Greene Lab, University of Pennsylvania"
   ]
  },
  {
   "cell_type": "code",
   "execution_count": 4,
   "metadata": {},
   "outputs": [],
   "source": [
    "import os\n",
    "import numpy as np\n",
    "import pandas as pd\n",
    "import matplotlib.pyplot as plt\n",
    "import seaborn as sns\n",
    "\n",
    "import pydot\n",
    "#import graphviz\n",
    "from keras.utils import plot_model\n",
    "from IPython.display import SVG\n",
    "from keras.utils.vis_utils import model_to_dot\n",
    "\n",
    "from keras.layers import Input, Dense, Dropout, Activation\n",
    "from keras.layers.noise import GaussianDropout\n",
    "from keras.models import Model\n",
    "from keras.regularizers import l1\n",
    "from keras import optimizers\n",
    "import keras"
   ]
  },
  {
   "cell_type": "code",
   "execution_count": 5,
   "metadata": {},
   "outputs": [
    {
     "name": "stdout",
     "output_type": "stream",
     "text": [
      "2.0.8\n"
     ]
    }
   ],
   "source": [
    "print(keras.__version__)"
   ]
  },
  {
   "cell_type": "code",
   "execution_count": 6,
   "metadata": {},
   "outputs": [],
   "source": [
    "%matplotlib inline\n",
    "plt.style.use('seaborn-notebook')"
   ]
  },
  {
   "cell_type": "code",
   "execution_count": 7,
   "metadata": {},
   "outputs": [],
   "source": [
    "sns.set(style=\"white\", color_codes=True)\n",
    "sns.set_context(\"paper\", rc={\"font.size\":14,\"axes.titlesize\":15,\"axes.labelsize\":20,\n",
    "                             'xtick.labelsize':14, 'ytick.labelsize':14})"
   ]
  },
  {
   "cell_type": "code",
   "execution_count": 8,
   "metadata": {},
   "outputs": [],
   "source": [
    "import os\n",
    "os.chdir('/Users/caitdreisbach/Dropbox (Personal)/Autoencoder')"
   ]
  },
  {
   "cell_type": "code",
   "execution_count": 9,
   "metadata": {},
   "outputs": [],
   "source": [
    "# Load RNAseq data\n",
    "rnaseq_df = pd.read_csv(\"Lun_cortex.csv\", index_col=False) "
   ]
  },
  {
   "cell_type": "code",
   "execution_count": 11,
   "metadata": {},
   "outputs": [
    {
     "name": "stdout",
     "output_type": "stream",
     "text": [
      "(1599, 8857)\n"
     ]
    },
    {
     "data": {
      "text/html": [
       "<div>\n",
       "<style scoped>\n",
       "    .dataframe tbody tr th:only-of-type {\n",
       "        vertical-align: middle;\n",
       "    }\n",
       "\n",
       "    .dataframe tbody tr th {\n",
       "        vertical-align: top;\n",
       "    }\n",
       "\n",
       "    .dataframe thead th {\n",
       "        text-align: right;\n",
       "    }\n",
       "</style>\n",
       "<table border=\"1\" class=\"dataframe\">\n",
       "  <thead>\n",
       "    <tr style=\"text-align: right;\">\n",
       "      <th></th>\n",
       "      <th>X</th>\n",
       "      <th>cell_id</th>\n",
       "      <th>level1class</th>\n",
       "      <th>tissue</th>\n",
       "      <th>age</th>\n",
       "      <th>sex</th>\n",
       "      <th>Tspan12</th>\n",
       "      <th>Tshz1</th>\n",
       "      <th>Fnbp1l</th>\n",
       "      <th>Cldn12</th>\n",
       "      <th>...</th>\n",
       "      <th>Phka2</th>\n",
       "      <th>Cdkl5</th>\n",
       "      <th>Rbbp7</th>\n",
       "      <th>Syap1</th>\n",
       "      <th>Ctps2</th>\n",
       "      <th>Trappc2</th>\n",
       "      <th>Rab9</th>\n",
       "      <th>Msl3</th>\n",
       "      <th>Vamp7</th>\n",
       "      <th>Uty</th>\n",
       "    </tr>\n",
       "  </thead>\n",
       "  <tbody>\n",
       "    <tr>\n",
       "      <th>0</th>\n",
       "      <td>V3</td>\n",
       "      <td>1772071015_C02</td>\n",
       "      <td>interneurons</td>\n",
       "      <td>sscortex</td>\n",
       "      <td>21</td>\n",
       "      <td>1</td>\n",
       "      <td>0.0</td>\n",
       "      <td>1.600423</td>\n",
       "      <td>1.600423</td>\n",
       "      <td>0.746262</td>\n",
       "      <td>...</td>\n",
       "      <td>0.000000</td>\n",
       "      <td>0.00000</td>\n",
       "      <td>0.746262</td>\n",
       "      <td>0.000000</td>\n",
       "      <td>0.746262</td>\n",
       "      <td>0.746262</td>\n",
       "      <td>2.521575</td>\n",
       "      <td>0.0</td>\n",
       "      <td>2.133302</td>\n",
       "      <td>0.0</td>\n",
       "    </tr>\n",
       "    <tr>\n",
       "      <th>1</th>\n",
       "      <td>V4</td>\n",
       "      <td>1772071017_G12</td>\n",
       "      <td>interneurons</td>\n",
       "      <td>sscortex</td>\n",
       "      <td>20</td>\n",
       "      <td>-1</td>\n",
       "      <td>0.0</td>\n",
       "      <td>0.732818</td>\n",
       "      <td>0.732818</td>\n",
       "      <td>0.732818</td>\n",
       "      <td>...</td>\n",
       "      <td>0.732818</td>\n",
       "      <td>1.86692</td>\n",
       "      <td>1.216464</td>\n",
       "      <td>0.732818</td>\n",
       "      <td>0.000000</td>\n",
       "      <td>0.732818</td>\n",
       "      <td>0.732818</td>\n",
       "      <td>0.0</td>\n",
       "      <td>0.000000</td>\n",
       "      <td>0.0</td>\n",
       "    </tr>\n",
       "  </tbody>\n",
       "</table>\n",
       "<p>2 rows × 8857 columns</p>\n",
       "</div>"
      ],
      "text/plain": [
       "    X         cell_id   level1class    tissue  age  sex  Tspan12     Tshz1  \\\n",
       "0  V3  1772071015_C02  interneurons  sscortex   21    1      0.0  1.600423   \n",
       "1  V4  1772071017_G12  interneurons  sscortex   20   -1      0.0  0.732818   \n",
       "\n",
       "     Fnbp1l    Cldn12 ...      Phka2    Cdkl5     Rbbp7     Syap1     Ctps2  \\\n",
       "0  1.600423  0.746262 ...   0.000000  0.00000  0.746262  0.000000  0.746262   \n",
       "1  0.732818  0.732818 ...   0.732818  1.86692  1.216464  0.732818  0.000000   \n",
       "\n",
       "    Trappc2      Rab9  Msl3     Vamp7  Uty  \n",
       "0  0.746262  2.521575   0.0  2.133302  0.0  \n",
       "1  0.732818  0.732818   0.0  0.000000  0.0  \n",
       "\n",
       "[2 rows x 8857 columns]"
      ]
     },
     "execution_count": 11,
     "metadata": {},
     "output_type": "execute_result"
    }
   ],
   "source": [
    "# Investigate RNAseq dataset\n",
    "print(rnaseq_df.shape)\n",
    "rnaseq_df.head(2)"
   ]
  },
  {
   "cell_type": "code",
   "execution_count": 24,
   "metadata": {},
   "outputs": [],
   "source": [
    "#drop metadata columns\n",
    "rnaseq_df = rnaseq_df.drop(rnaseq_df.columns[[0, 1, 2, 3, 4, 5]], axis=1)  # df.columns is zero-based pd.Index "
   ]
  },
  {
   "cell_type": "code",
   "execution_count": 34,
   "metadata": {},
   "outputs": [
    {
     "data": {
      "text/html": [
       "<div>\n",
       "<style scoped>\n",
       "    .dataframe tbody tr th:only-of-type {\n",
       "        vertical-align: middle;\n",
       "    }\n",
       "\n",
       "    .dataframe tbody tr th {\n",
       "        vertical-align: top;\n",
       "    }\n",
       "\n",
       "    .dataframe thead th {\n",
       "        text-align: right;\n",
       "    }\n",
       "</style>\n",
       "<table border=\"1\" class=\"dataframe\">\n",
       "  <thead>\n",
       "    <tr style=\"text-align: right;\">\n",
       "      <th></th>\n",
       "      <th>Tspan12</th>\n",
       "      <th>Tshz1</th>\n",
       "      <th>Fnbp1l</th>\n",
       "      <th>Cldn12</th>\n",
       "      <th>Sema3c</th>\n",
       "      <th>Jam2</th>\n",
       "      <th>BC005764</th>\n",
       "      <th>Klhl13</th>\n",
       "      <th>Tnfaip8l3</th>\n",
       "      <th>Atp1b2</th>\n",
       "      <th>...</th>\n",
       "      <th>Phka2</th>\n",
       "      <th>Cdkl5</th>\n",
       "      <th>Rbbp7</th>\n",
       "      <th>Syap1</th>\n",
       "      <th>Ctps2</th>\n",
       "      <th>Trappc2</th>\n",
       "      <th>Rab9</th>\n",
       "      <th>Msl3</th>\n",
       "      <th>Vamp7</th>\n",
       "      <th>Uty</th>\n",
       "    </tr>\n",
       "  </thead>\n",
       "  <tbody>\n",
       "    <tr>\n",
       "      <th>0</th>\n",
       "      <td>0.0</td>\n",
       "      <td>0.111969</td>\n",
       "      <td>0.111969</td>\n",
       "      <td>0.052210</td>\n",
       "      <td>0.215432</td>\n",
       "      <td>0.05221</td>\n",
       "      <td>0.000000</td>\n",
       "      <td>0.111969</td>\n",
       "      <td>0.0</td>\n",
       "      <td>0.197797</td>\n",
       "      <td>...</td>\n",
       "      <td>0.000000</td>\n",
       "      <td>0.000000</td>\n",
       "      <td>0.052210</td>\n",
       "      <td>0.000000</td>\n",
       "      <td>0.05221</td>\n",
       "      <td>0.052210</td>\n",
       "      <td>0.176415</td>\n",
       "      <td>0.0</td>\n",
       "      <td>0.14925</td>\n",
       "      <td>0.0</td>\n",
       "    </tr>\n",
       "    <tr>\n",
       "      <th>1</th>\n",
       "      <td>0.0</td>\n",
       "      <td>0.051269</td>\n",
       "      <td>0.051269</td>\n",
       "      <td>0.051269</td>\n",
       "      <td>0.000000</td>\n",
       "      <td>0.00000</td>\n",
       "      <td>0.110403</td>\n",
       "      <td>0.085106</td>\n",
       "      <td>0.0</td>\n",
       "      <td>0.147444</td>\n",
       "      <td>...</td>\n",
       "      <td>0.051269</td>\n",
       "      <td>0.130614</td>\n",
       "      <td>0.085106</td>\n",
       "      <td>0.051269</td>\n",
       "      <td>0.00000</td>\n",
       "      <td>0.051269</td>\n",
       "      <td>0.051269</td>\n",
       "      <td>0.0</td>\n",
       "      <td>0.00000</td>\n",
       "      <td>0.0</td>\n",
       "    </tr>\n",
       "  </tbody>\n",
       "</table>\n",
       "<p>2 rows × 8851 columns</p>\n",
       "</div>"
      ],
      "text/plain": [
       "   Tspan12     Tshz1    Fnbp1l    Cldn12    Sema3c     Jam2  BC005764  \\\n",
       "0      0.0  0.111969  0.111969  0.052210  0.215432  0.05221  0.000000   \n",
       "1      0.0  0.051269  0.051269  0.051269  0.000000  0.00000  0.110403   \n",
       "\n",
       "     Klhl13  Tnfaip8l3    Atp1b2 ...      Phka2     Cdkl5     Rbbp7     Syap1  \\\n",
       "0  0.111969        0.0  0.197797 ...   0.000000  0.000000  0.052210  0.000000   \n",
       "1  0.085106        0.0  0.147444 ...   0.051269  0.130614  0.085106  0.051269   \n",
       "\n",
       "     Ctps2   Trappc2      Rab9  Msl3    Vamp7  Uty  \n",
       "0  0.05221  0.052210  0.176415   0.0  0.14925  0.0  \n",
       "1  0.00000  0.051269  0.051269   0.0  0.00000  0.0  \n",
       "\n",
       "[2 rows x 8851 columns]"
      ]
     },
     "execution_count": 34,
     "metadata": {},
     "output_type": "execute_result"
    }
   ],
   "source": [
    "#need to normalize gene expression values to between 0 and 1.\n",
    "rnaseq_df = rnaseq_df.astype('float64') / 14.29346724\n",
    "rnaseq_df.head(2)"
   ]
  },
  {
   "cell_type": "code",
   "execution_count": 35,
   "metadata": {},
   "outputs": [],
   "source": [
    "np.random.seed(123)"
   ]
  },
  {
   "cell_type": "code",
   "execution_count": 36,
   "metadata": {},
   "outputs": [],
   "source": [
    "# Split 10% test set randomly\n",
    "test_set_percent = 0.1\n",
    "rnaseq_test_df = rnaseq_df.sample(frac=test_set_percent)\n",
    "rnaseq_train_df = rnaseq_df.drop(rnaseq_test_df.index)"
   ]
  },
  {
   "cell_type": "markdown",
   "metadata": {},
   "source": [
    "## Parameter Sweep Results\n",
    "\n",
    "We previously performed a parameter sweep search over a grid of potential hyperparameter values. Based on this sweep, we determined that the optimal ADAGE parameters are:\n",
    "\n",
    "| Parameter | Optimal Setting |\n",
    "| :-------: | :-------------: |\n",
    "| Learning Rate | 1.1 |\n",
    "| Sparsity | 0 |\n",
    "| Noise | 0.05 |\n",
    "| Epochs | 100 |\n",
    "| Batch Size | 50 |"
   ]
  },
  {
   "cell_type": "code",
   "execution_count": 37,
   "metadata": {},
   "outputs": [],
   "source": [
    "num_features = rnaseq_df.shape[1]\n",
    "encoding_dim = 100\n",
    "sparsity = 0\n",
    "noise = 0.05\n",
    "epochs = 100\n",
    "batch_size = 50\n",
    "learning_rate = 1.1"
   ]
  },
  {
   "cell_type": "code",
   "execution_count": 38,
   "metadata": {},
   "outputs": [],
   "source": [
    "# Build the Keras graph\n",
    "input_rnaseq = Input(shape=(num_features, ))\n",
    "encoded_rnaseq = Dropout(noise)(input_rnaseq)\n",
    "encoded_rnaseq_2 = Dense(encoding_dim,\n",
    "                         activity_regularizer=l1(sparsity))(encoded_rnaseq)\n",
    "activation = Activation('relu')(encoded_rnaseq_2)\n",
    "decoded_rnaseq = Dense(num_features, activation='sigmoid')(activation)\n",
    "\n",
    "autoencoder = Model(input_rnaseq, decoded_rnaseq)"
   ]
  },
  {
   "cell_type": "code",
   "execution_count": 39,
   "metadata": {},
   "outputs": [
    {
     "name": "stdout",
     "output_type": "stream",
     "text": [
      "_________________________________________________________________\n",
      "Layer (type)                 Output Shape              Param #   \n",
      "=================================================================\n",
      "input_5 (InputLayer)         (None, 8851)              0         \n",
      "_________________________________________________________________\n",
      "dropout_3 (Dropout)          (None, 8851)              0         \n",
      "_________________________________________________________________\n",
      "dense_5 (Dense)              (None, 100)               885200    \n",
      "_________________________________________________________________\n",
      "activation_3 (Activation)    (None, 100)               0         \n",
      "_________________________________________________________________\n",
      "dense_6 (Dense)              (None, 8851)              893951    \n",
      "=================================================================\n",
      "Total params: 1,779,151\n",
      "Trainable params: 1,779,151\n",
      "Non-trainable params: 0\n",
      "_________________________________________________________________\n"
     ]
    }
   ],
   "source": [
    "autoencoder.summary()"
   ]
  },
  {
   "cell_type": "code",
   "execution_count": 40,
   "metadata": {},
   "outputs": [
    {
     "data": {
      "image/svg+xml": [
       "<svg height=\"337pt\" viewBox=\"0.00 0.00 159.70 337.00\" width=\"160pt\" xmlns=\"http://www.w3.org/2000/svg\" xmlns:xlink=\"http://www.w3.org/1999/xlink\">\n",
       "<g class=\"graph\" id=\"graph0\" transform=\"scale(1 1) rotate(0) translate(4 333)\">\n",
       "<title>G</title>\n",
       "<polygon fill=\"#ffffff\" points=\"-4,4 -4,-333 155.695,-333 155.695,4 -4,4\" stroke=\"transparent\"/>\n",
       "<!-- 120929866248 -->\n",
       "<g class=\"node\" id=\"node1\">\n",
       "<title>120929866248</title>\n",
       "<polygon fill=\"none\" points=\"11.6648,-292.5 11.6648,-328.5 140.0302,-328.5 140.0302,-292.5 11.6648,-292.5\" stroke=\"#000000\"/>\n",
       "<text fill=\"#000000\" font-family=\"Times,serif\" font-size=\"14.00\" text-anchor=\"middle\" x=\"75.8475\" y=\"-306.3\">input_5: InputLayer</text>\n",
       "</g>\n",
       "<!-- 120929866696 -->\n",
       "<g class=\"node\" id=\"node2\">\n",
       "<title>120929866696</title>\n",
       "<polygon fill=\"none\" points=\"12.0477,-219.5 12.0477,-255.5 139.6473,-255.5 139.6473,-219.5 12.0477,-219.5\" stroke=\"#000000\"/>\n",
       "<text fill=\"#000000\" font-family=\"Times,serif\" font-size=\"14.00\" text-anchor=\"middle\" x=\"75.8475\" y=\"-233.3\">dropout_3: Dropout</text>\n",
       "</g>\n",
       "<!-- 120929866248&#45;&gt;120929866696 -->\n",
       "<g class=\"edge\" id=\"edge1\">\n",
       "<title>120929866248-&gt;120929866696</title>\n",
       "<path d=\"M75.8475,-292.4551C75.8475,-284.3828 75.8475,-274.6764 75.8475,-265.6817\" fill=\"none\" stroke=\"#000000\"/>\n",
       "<polygon fill=\"#000000\" points=\"79.3476,-265.5903 75.8475,-255.5904 72.3476,-265.5904 79.3476,-265.5903\" stroke=\"#000000\"/>\n",
       "</g>\n",
       "<!-- 120929866584 -->\n",
       "<g class=\"node\" id=\"node3\">\n",
       "<title>120929866584</title>\n",
       "<polygon fill=\"none\" points=\"23.7251,-146.5 23.7251,-182.5 127.9699,-182.5 127.9699,-146.5 23.7251,-146.5\" stroke=\"#000000\"/>\n",
       "<text fill=\"#000000\" font-family=\"Times,serif\" font-size=\"14.00\" text-anchor=\"middle\" x=\"75.8475\" y=\"-160.3\">dense_5: Dense</text>\n",
       "</g>\n",
       "<!-- 120929866696&#45;&gt;120929866584 -->\n",
       "<g class=\"edge\" id=\"edge2\">\n",
       "<title>120929866696-&gt;120929866584</title>\n",
       "<path d=\"M75.8475,-219.4551C75.8475,-211.3828 75.8475,-201.6764 75.8475,-192.6817\" fill=\"none\" stroke=\"#000000\"/>\n",
       "<polygon fill=\"#000000\" points=\"79.3476,-192.5903 75.8475,-182.5904 72.3476,-192.5904 79.3476,-192.5903\" stroke=\"#000000\"/>\n",
       "</g>\n",
       "<!-- 122558492288 -->\n",
       "<g class=\"node\" id=\"node4\">\n",
       "<title>122558492288</title>\n",
       "<polygon fill=\"none\" points=\"0,-73.5 0,-109.5 151.695,-109.5 151.695,-73.5 0,-73.5\" stroke=\"#000000\"/>\n",
       "<text fill=\"#000000\" font-family=\"Times,serif\" font-size=\"14.00\" text-anchor=\"middle\" x=\"75.8475\" y=\"-87.3\">activation_3: Activation</text>\n",
       "</g>\n",
       "<!-- 120929866584&#45;&gt;122558492288 -->\n",
       "<g class=\"edge\" id=\"edge3\">\n",
       "<title>120929866584-&gt;122558492288</title>\n",
       "<path d=\"M75.8475,-146.4551C75.8475,-138.3828 75.8475,-128.6764 75.8475,-119.6817\" fill=\"none\" stroke=\"#000000\"/>\n",
       "<polygon fill=\"#000000\" points=\"79.3476,-119.5903 75.8475,-109.5904 72.3476,-119.5904 79.3476,-119.5903\" stroke=\"#000000\"/>\n",
       "</g>\n",
       "<!-- 120929868432 -->\n",
       "<g class=\"node\" id=\"node5\">\n",
       "<title>120929868432</title>\n",
       "<polygon fill=\"none\" points=\"23.7251,-.5 23.7251,-36.5 127.9699,-36.5 127.9699,-.5 23.7251,-.5\" stroke=\"#000000\"/>\n",
       "<text fill=\"#000000\" font-family=\"Times,serif\" font-size=\"14.00\" text-anchor=\"middle\" x=\"75.8475\" y=\"-14.3\">dense_6: Dense</text>\n",
       "</g>\n",
       "<!-- 122558492288&#45;&gt;120929868432 -->\n",
       "<g class=\"edge\" id=\"edge4\">\n",
       "<title>122558492288-&gt;120929868432</title>\n",
       "<path d=\"M75.8475,-73.4551C75.8475,-65.3828 75.8475,-55.6764 75.8475,-46.6817\" fill=\"none\" stroke=\"#000000\"/>\n",
       "<polygon fill=\"#000000\" points=\"79.3476,-46.5903 75.8475,-36.5904 72.3476,-46.5904 79.3476,-46.5903\" stroke=\"#000000\"/>\n",
       "</g>\n",
       "</g>\n",
       "</svg>"
      ],
      "text/plain": [
       "<IPython.core.display.SVG object>"
      ]
     },
     "execution_count": 40,
     "metadata": {},
     "output_type": "execute_result"
    }
   ],
   "source": [
    "# Visualize the connections of the custom VAE model\n",
    "output_model_file = os.path.join('adage_architecture.png')\n",
    "\n",
    "plot_model(autoencoder, to_file=output_model_file)\n",
    "\n",
    "SVG(model_to_dot(autoencoder).create(prog='dot', format='svg'))"
   ]
  },
  {
   "cell_type": "code",
   "execution_count": 41,
   "metadata": {},
   "outputs": [],
   "source": [
    "# Separate out the encoder and decoder model\n",
    "encoder = Model(input_rnaseq, encoded_rnaseq_2)\n",
    "\n",
    "encoded_input = Input(shape=(encoding_dim, ))\n",
    "decoder_layer = autoencoder.layers[-1]\n",
    "decoder = Model(encoded_input, decoder_layer(encoded_input))"
   ]
  },
  {
   "cell_type": "code",
   "execution_count": 42,
   "metadata": {},
   "outputs": [],
   "source": [
    "# Compile the autoencoder to prepare for training\n",
    "adadelta = optimizers.Adadelta(lr=learning_rate)\n",
    "autoencoder.compile(optimizer=adadelta, loss='mse')"
   ]
  },
  {
   "cell_type": "code",
   "execution_count": 43,
   "metadata": {},
   "outputs": [
    {
     "name": "stdout",
     "output_type": "stream",
     "text": [
      "Train on 1439 samples, validate on 160 samples\n",
      "Epoch 1/100\n",
      "1439/1439 [==============================] - 2s - loss: 0.2114 - val_loss: 0.2120\n",
      "Epoch 2/100\n",
      "1439/1439 [==============================] - 2s - loss: 0.2109 - val_loss: 0.2115\n",
      "Epoch 3/100\n",
      "1439/1439 [==============================] - 2s - loss: 0.2102 - val_loss: 0.2105\n",
      "Epoch 4/100\n",
      "1439/1439 [==============================] - 2s - loss: 0.2087 - val_loss: 0.2083\n",
      "Epoch 5/100\n",
      "1439/1439 [==============================] - 2s - loss: 0.2053 - val_loss: 0.2032\n",
      "Epoch 6/100\n",
      "1439/1439 [==============================] - 2s - loss: 0.1975 - val_loss: 0.1918\n",
      "Epoch 7/100\n",
      "1439/1439 [==============================] - 2s - loss: 0.1808 - val_loss: 0.1683\n",
      "Epoch 8/100\n",
      "1439/1439 [==============================] - 2s - loss: 0.1497 - val_loss: 0.1293\n",
      "Epoch 9/100\n",
      "1439/1439 [==============================] - 2s - loss: 0.1062 - val_loss: 0.0841\n",
      "Epoch 10/100\n",
      "1439/1439 [==============================] - 2s - loss: 0.0652 - val_loss: 0.0500\n",
      "Epoch 11/100\n",
      "1439/1439 [==============================] - 2s - loss: 0.0388 - val_loss: 0.0310\n",
      "Epoch 12/100\n",
      "1439/1439 [==============================] - 2s - loss: 0.0248 - val_loss: 0.0212\n",
      "Epoch 13/100\n",
      "1439/1439 [==============================] - 2s - loss: 0.0177 - val_loss: 0.0160\n",
      "Epoch 14/100\n",
      "1439/1439 [==============================] - 2s - loss: 0.0137 - val_loss: 0.0130\n",
      "Epoch 15/100\n",
      "1439/1439 [==============================] - 2s - loss: 0.0114 - val_loss: 0.0111\n",
      "Epoch 16/100\n",
      "1439/1439 [==============================] - 2s - loss: 0.0099 - val_loss: 0.0099\n",
      "Epoch 17/100\n",
      "1439/1439 [==============================] - 2s - loss: 0.0089 - val_loss: 0.0090\n",
      "Epoch 18/100\n",
      "1439/1439 [==============================] - 2s - loss: 0.0082 - val_loss: 0.0084\n",
      "Epoch 19/100\n",
      "1439/1439 [==============================] - 2s - loss: 0.0076 - val_loss: 0.0079\n",
      "Epoch 20/100\n",
      "1439/1439 [==============================] - 2s - loss: 0.0072 - val_loss: 0.0075\n",
      "Epoch 21/100\n",
      "1439/1439 [==============================] - 2s - loss: 0.0069 - val_loss: 0.0073\n",
      "Epoch 22/100\n",
      "1439/1439 [==============================] - 2s - loss: 0.0067 - val_loss: 0.0070\n",
      "Epoch 23/100\n",
      "1439/1439 [==============================] - 2s - loss: 0.0065 - val_loss: 0.0068\n",
      "Epoch 24/100\n",
      "1439/1439 [==============================] - 2s - loss: 0.0063 - val_loss: 0.0067\n",
      "Epoch 25/100\n",
      "1439/1439 [==============================] - 2s - loss: 0.0062 - val_loss: 0.0065\n",
      "Epoch 26/100\n",
      "1439/1439 [==============================] - 2s - loss: 0.0061 - val_loss: 0.0064\n",
      "Epoch 27/100\n",
      "1439/1439 [==============================] - 2s - loss: 0.0060 - val_loss: 0.0063\n",
      "Epoch 28/100\n",
      "1439/1439 [==============================] - 2s - loss: 0.0059 - val_loss: 0.0062\n",
      "Epoch 29/100\n",
      "1439/1439 [==============================] - 2s - loss: 0.0058 - val_loss: 0.0061\n",
      "Epoch 30/100\n",
      "1439/1439 [==============================] - 2s - loss: 0.0057 - val_loss: 0.0061\n",
      "Epoch 31/100\n",
      "1439/1439 [==============================] - 2s - loss: 0.0057 - val_loss: 0.0060\n",
      "Epoch 32/100\n",
      "1439/1439 [==============================] - 2s - loss: 0.0056 - val_loss: 0.0060\n",
      "Epoch 33/100\n",
      "1439/1439 [==============================] - 2s - loss: 0.0056 - val_loss: 0.0059\n",
      "Epoch 34/100\n",
      "1439/1439 [==============================] - 2s - loss: 0.0056 - val_loss: 0.0059\n",
      "Epoch 35/100\n",
      "1439/1439 [==============================] - 2s - loss: 0.0055 - val_loss: 0.0058\n",
      "Epoch 36/100\n",
      "1439/1439 [==============================] - 2s - loss: 0.0055 - val_loss: 0.0058\n",
      "Epoch 37/100\n",
      "1439/1439 [==============================] - 2s - loss: 0.0054 - val_loss: 0.0058\n",
      "Epoch 38/100\n",
      "1439/1439 [==============================] - 2s - loss: 0.0054 - val_loss: 0.0057\n",
      "Epoch 39/100\n",
      "1439/1439 [==============================] - 2s - loss: 0.0054 - val_loss: 0.0057\n",
      "Epoch 40/100\n",
      "1439/1439 [==============================] - 2s - loss: 0.0054 - val_loss: 0.0057\n",
      "Epoch 41/100\n",
      "1439/1439 [==============================] - 2s - loss: 0.0053 - val_loss: 0.0057\n",
      "Epoch 42/100\n",
      "1439/1439 [==============================] - 2s - loss: 0.0053 - val_loss: 0.0056\n",
      "Epoch 43/100\n",
      "1439/1439 [==============================] - 2s - loss: 0.0053 - val_loss: 0.0056\n",
      "Epoch 44/100\n",
      "1439/1439 [==============================] - 2s - loss: 0.0053 - val_loss: 0.0056\n",
      "Epoch 45/100\n",
      "1439/1439 [==============================] - 2s - loss: 0.0053 - val_loss: 0.0056\n",
      "Epoch 46/100\n",
      "1439/1439 [==============================] - 2s - loss: 0.0053 - val_loss: 0.0056\n",
      "Epoch 47/100\n",
      "1439/1439 [==============================] - 2s - loss: 0.0053 - val_loss: 0.0056\n",
      "Epoch 48/100\n",
      "1439/1439 [==============================] - 2s - loss: 0.0052 - val_loss: 0.0055\n",
      "Epoch 49/100\n",
      "1439/1439 [==============================] - 2s - loss: 0.0052 - val_loss: 0.0055\n",
      "Epoch 50/100\n",
      "1439/1439 [==============================] - 2s - loss: 0.0052 - val_loss: 0.0055\n",
      "Epoch 51/100\n",
      "1439/1439 [==============================] - 2s - loss: 0.0052 - val_loss: 0.0055\n",
      "Epoch 52/100\n",
      "1439/1439 [==============================] - 2s - loss: 0.0052 - val_loss: 0.0055\n",
      "Epoch 53/100\n",
      "1439/1439 [==============================] - 2s - loss: 0.0052 - val_loss: 0.0055\n",
      "Epoch 54/100\n",
      "1439/1439 [==============================] - 2s - loss: 0.0052 - val_loss: 0.0055\n",
      "Epoch 55/100\n",
      "1439/1439 [==============================] - 2s - loss: 0.0052 - val_loss: 0.0055\n",
      "Epoch 56/100\n",
      "1439/1439 [==============================] - 2s - loss: 0.0052 - val_loss: 0.0055\n",
      "Epoch 57/100\n",
      "1439/1439 [==============================] - 2s - loss: 0.0052 - val_loss: 0.0054\n",
      "Epoch 58/100\n",
      "1439/1439 [==============================] - 2s - loss: 0.0051 - val_loss: 0.0054\n",
      "Epoch 59/100\n",
      "1439/1439 [==============================] - 2s - loss: 0.0051 - val_loss: 0.0054\n",
      "Epoch 60/100\n",
      "1439/1439 [==============================] - 2s - loss: 0.0051 - val_loss: 0.0054\n",
      "Epoch 61/100\n",
      "1439/1439 [==============================] - 2s - loss: 0.0051 - val_loss: 0.0054\n",
      "Epoch 62/100\n",
      "1439/1439 [==============================] - 2s - loss: 0.0051 - val_loss: 0.0054\n",
      "Epoch 63/100\n",
      "1439/1439 [==============================] - 2s - loss: 0.0051 - val_loss: 0.0054\n",
      "Epoch 64/100\n",
      "1439/1439 [==============================] - 2s - loss: 0.0051 - val_loss: 0.0054\n",
      "Epoch 65/100\n",
      "1439/1439 [==============================] - 2s - loss: 0.0051 - val_loss: 0.0054\n",
      "Epoch 66/100\n",
      "1439/1439 [==============================] - 2s - loss: 0.0051 - val_loss: 0.0054\n",
      "Epoch 67/100\n",
      "1439/1439 [==============================] - 2s - loss: 0.0051 - val_loss: 0.0054\n",
      "Epoch 68/100\n",
      "1439/1439 [==============================] - 2s - loss: 0.0051 - val_loss: 0.0054\n",
      "Epoch 69/100\n",
      "1439/1439 [==============================] - 2s - loss: 0.0051 - val_loss: 0.0054\n",
      "Epoch 70/100\n",
      "1439/1439 [==============================] - 2s - loss: 0.0051 - val_loss: 0.0054\n",
      "Epoch 71/100\n",
      "1439/1439 [==============================] - 2s - loss: 0.0051 - val_loss: 0.0054\n",
      "Epoch 72/100\n",
      "1439/1439 [==============================] - 2s - loss: 0.0051 - val_loss: 0.0053\n",
      "Epoch 73/100\n",
      "1439/1439 [==============================] - 2s - loss: 0.0051 - val_loss: 0.0053\n",
      "Epoch 74/100\n",
      "1439/1439 [==============================] - 2s - loss: 0.0051 - val_loss: 0.0053\n",
      "Epoch 75/100\n",
      "1439/1439 [==============================] - 2s - loss: 0.0051 - val_loss: 0.0053\n",
      "Epoch 76/100\n",
      "1439/1439 [==============================] - 2s - loss: 0.0050 - val_loss: 0.0053\n",
      "Epoch 77/100\n",
      "1439/1439 [==============================] - 2s - loss: 0.0050 - val_loss: 0.0053\n",
      "Epoch 78/100\n",
      "1439/1439 [==============================] - 2s - loss: 0.0050 - val_loss: 0.0053\n",
      "Epoch 79/100\n",
      "1439/1439 [==============================] - 2s - loss: 0.0050 - val_loss: 0.0053\n",
      "Epoch 80/100\n",
      "1439/1439 [==============================] - 2s - loss: 0.0050 - val_loss: 0.0053\n",
      "Epoch 81/100\n",
      "1439/1439 [==============================] - 2s - loss: 0.0050 - val_loss: 0.0053\n",
      "Epoch 82/100\n",
      "1439/1439 [==============================] - 2s - loss: 0.0050 - val_loss: 0.0053\n",
      "Epoch 83/100\n",
      "1439/1439 [==============================] - 2s - loss: 0.0050 - val_loss: 0.0053\n",
      "Epoch 84/100\n",
      "1439/1439 [==============================] - 2s - loss: 0.0050 - val_loss: 0.0053\n",
      "Epoch 85/100\n",
      "1439/1439 [==============================] - 2s - loss: 0.0050 - val_loss: 0.0053\n",
      "Epoch 86/100\n"
     ]
    },
    {
     "name": "stdout",
     "output_type": "stream",
     "text": [
      "1439/1439 [==============================] - 2s - loss: 0.0050 - val_loss: 0.0053\n",
      "Epoch 87/100\n",
      "1439/1439 [==============================] - 2s - loss: 0.0050 - val_loss: 0.0053\n",
      "Epoch 88/100\n",
      "1439/1439 [==============================] - 2s - loss: 0.0050 - val_loss: 0.0053\n",
      "Epoch 89/100\n",
      "1439/1439 [==============================] - 2s - loss: 0.0050 - val_loss: 0.0053\n",
      "Epoch 90/100\n",
      "1439/1439 [==============================] - 2s - loss: 0.0050 - val_loss: 0.0053\n",
      "Epoch 91/100\n",
      "1439/1439 [==============================] - 2s - loss: 0.0050 - val_loss: 0.0053\n",
      "Epoch 92/100\n",
      "1439/1439 [==============================] - 2s - loss: 0.0050 - val_loss: 0.0053\n",
      "Epoch 93/100\n",
      "1439/1439 [==============================] - 2s - loss: 0.0050 - val_loss: 0.0053\n",
      "Epoch 94/100\n",
      "1439/1439 [==============================] - 2s - loss: 0.0050 - val_loss: 0.0053\n",
      "Epoch 95/100\n",
      "1439/1439 [==============================] - 2s - loss: 0.0050 - val_loss: 0.0053\n",
      "Epoch 96/100\n",
      "1439/1439 [==============================] - 2s - loss: 0.0050 - val_loss: 0.0053\n",
      "Epoch 97/100\n",
      "1439/1439 [==============================] - 2s - loss: 0.0050 - val_loss: 0.0053\n",
      "Epoch 98/100\n",
      "1439/1439 [==============================] - 2s - loss: 0.0050 - val_loss: 0.0053\n",
      "Epoch 99/100\n",
      "1439/1439 [==============================] - 2s - loss: 0.0050 - val_loss: 0.0053\n",
      "Epoch 100/100\n",
      "1439/1439 [==============================] - 2s - loss: 0.0050 - val_loss: 0.0053\n",
      "CPU times: user 7min 12s, sys: 1min 37s, total: 8min 49s\n",
      "Wall time: 3min 38s\n"
     ]
    }
   ],
   "source": [
    "%%time\n",
    "hist = autoencoder.fit(np.array(rnaseq_train_df), np.array(rnaseq_train_df),\n",
    "                       shuffle=True,\n",
    "                       epochs=epochs,\n",
    "                       batch_size=batch_size,\n",
    "                       validation_data=(np.array(rnaseq_test_df), np.array(rnaseq_test_df)))"
   ]
  },
  {
   "cell_type": "code",
   "execution_count": 44,
   "metadata": {},
   "outputs": [
    {
     "data": {
      "image/png": "[encoded data removed]",
      "text/plain": [
       "<matplotlib.figure.Figure at 0x1c816d6e10>"
      ]
     },
     "metadata": {},
     "output_type": "display_data"
    }
   ],
   "source": [
    "# Visualize training performance\n",
    "history_df = pd.DataFrame(hist.history)\n",
    "hist_plot_file = os.path.join('adage_training.png')\n",
    "ax = history_df.plot()\n",
    "ax.set_xlabel('Epochs')\n",
    "ax.set_ylabel('ADAGE Reconstruction Loss')\n",
    "fig = ax.get_figure()\n",
    "fig.savefig(hist_plot_file)"
   ]
  },
  {
   "cell_type": "markdown",
   "metadata": {},
   "source": [
    "### Save Model Outputs"
   ]
  },
  {
   "cell_type": "code",
   "execution_count": 57,
   "metadata": {},
   "outputs": [],
   "source": [
    "# Encode rnaseq into the hidden/latent representation - and save output\n",
    "encoded_samples = encoder.predict(np.array(rnaseq_df))\n",
    "encoded_rnaseq_df = pd.DataFrame(encoded_samples, index=rnaseq_df.index)\n",
    "\n",
    "encoded_rnaseq_df.columns.name = 'sample_id'\n",
    "encoded_rnaseq_df.columns = encoded_rnaseq_df.columns + 1\n",
    "encoded_file = os.path.join('encoded_adage_features.tsv')\n",
    "encoded_rnaseq_df.to_csv(encoded_file, sep='\\t')"
   ]
  },
  {
   "cell_type": "code",
   "execution_count": 58,
   "metadata": {},
   "outputs": [],
   "source": [
    "# Output weight matrix of gene contributions per node\n",
    "weight_file = os.path.join('adage_gene_weights.tsv')\n",
    "\n",
    "weight_matrix = pd.DataFrame(autoencoder.get_weights()[0], index=rnaseq_df.columns,\n",
    "                             columns=range(1, 101)).T\n",
    "weight_matrix.index.name = 'encodings'\n",
    "weight_matrix.to_csv(weight_file, sep='\\t')"
   ]
  },
  {
   "cell_type": "markdown",
   "metadata": {},
   "source": [
    "## Observe reconstruction"
   ]
  },
  {
   "cell_type": "code",
   "execution_count": 49,
   "metadata": {},
   "outputs": [],
   "source": [
    "# Reconstruct input RNAseq\n",
    "decoded_samples = decoder.predict(encoded_samples)\n",
    "\n",
    "reconstructed_df = pd.DataFrame(decoded_samples, index=rnaseq_df.index,\n",
    "                                columns=rnaseq_df.columns)"
   ]
  },
  {
   "cell_type": "code",
   "execution_count": 50,
   "metadata": {},
   "outputs": [
    {
     "data": {
      "text/html": [
       "<div>\n",
       "<style scoped>\n",
       "    .dataframe tbody tr th:only-of-type {\n",
       "        vertical-align: middle;\n",
       "    }\n",
       "\n",
       "    .dataframe tbody tr th {\n",
       "        vertical-align: top;\n",
       "    }\n",
       "\n",
       "    .dataframe thead th {\n",
       "        text-align: right;\n",
       "    }\n",
       "</style>\n",
       "<table border=\"1\" class=\"dataframe\">\n",
       "  <thead>\n",
       "    <tr style=\"text-align: right;\">\n",
       "      <th></th>\n",
       "      <th>gene mean</th>\n",
       "      <th>gene abs(sum)</th>\n",
       "    </tr>\n",
       "  </thead>\n",
       "  <tbody>\n",
       "    <tr>\n",
       "      <th>Plp1</th>\n",
       "      <td>-0.014648</td>\n",
       "      <td>0.261488</td>\n",
       "    </tr>\n",
       "    <tr>\n",
       "      <th>Trf</th>\n",
       "      <td>-0.007032</td>\n",
       "      <td>0.247301</td>\n",
       "    </tr>\n",
       "    <tr>\n",
       "      <th>Mal</th>\n",
       "      <td>-0.000214</td>\n",
       "      <td>0.229209</td>\n",
       "    </tr>\n",
       "    <tr>\n",
       "      <th>Apod</th>\n",
       "      <td>-0.002573</td>\n",
       "      <td>0.224493</td>\n",
       "    </tr>\n",
       "    <tr>\n",
       "      <th>Mog</th>\n",
       "      <td>-0.003362</td>\n",
       "      <td>0.224451</td>\n",
       "    </tr>\n",
       "  </tbody>\n",
       "</table>\n",
       "</div>"
      ],
      "text/plain": [
       "      gene mean  gene abs(sum)\n",
       "Plp1  -0.014648       0.261488\n",
       "Trf   -0.007032       0.247301\n",
       "Mal   -0.000214       0.229209\n",
       "Apod  -0.002573       0.224493\n",
       "Mog   -0.003362       0.224451"
      ]
     },
     "execution_count": 50,
     "metadata": {},
     "output_type": "execute_result"
    }
   ],
   "source": [
    "reconstruction_fidelity = rnaseq_df - reconstructed_df\n",
    "\n",
    "gene_mean = reconstruction_fidelity.mean(axis=0)\n",
    "gene_abssum = reconstruction_fidelity.abs().sum(axis=0).divide(rnaseq_df.shape[0])\n",
    "gene_summary = pd.DataFrame([gene_mean, gene_abssum], index=['gene mean', 'gene abs(sum)']).T\n",
    "gene_summary.sort_values(by='gene abs(sum)', ascending=False).head()"
   ]
  },
  {
   "cell_type": "code",
   "execution_count": 52,
   "metadata": {},
   "outputs": [
    {
     "data": {
      "image/png": "[encoded data removed]",
      "text/plain": [
       "<matplotlib.figure.Figure at 0x1c2a752860>"
      ]
     },
     "metadata": {},
     "output_type": "display_data"
    }
   ],
   "source": [
    "# Mean of gene reconstruction vs. absolute reconstructed difference per sample\n",
    "reconstruct_fig_file = os.path.join('adage_gene_reconstruction.png')\n",
    "g = sns.jointplot('gene mean', 'gene abs(sum)', data=gene_summary, stat_func=None);\n",
    "g.savefig(reconstruct_fig_file)"
   ]
  },
  {
   "cell_type": "code",
   "execution_count": 59,
   "metadata": {},
   "outputs": [
    {
     "name": "stdout",
     "output_type": "stream",
     "text": [
      "sample_id\n",
      "73    28771.302734\n",
      "28    23082.771484\n",
      "84    22069.566406\n",
      "79    19161.257812\n",
      "41    18446.765625\n",
      "dtype: float32\n"
     ]
    },
    {
     "data": {
      "text/plain": [
       "sample_id\n",
       "14   -236.697021\n",
       "74   -245.223984\n",
       "92   -248.392059\n",
       "33   -260.712036\n",
       "24   -283.123688\n",
       "19   -288.158325\n",
       "63   -293.836945\n",
       "95   -296.285736\n",
       "48   -321.245026\n",
       "85   -336.834991\n",
       "dtype: float32"
      ]
     },
     "execution_count": 59,
     "metadata": {},
     "output_type": "execute_result"
    }
   ],
   "source": [
    "# What are the most and least activated nodes\n",
    "sum_node_activity = encoded_rnaseq_df.sum(axis=0).sort_values(ascending=False)\n",
    "\n",
    "# Top 5 most active nodes\n",
    "print(sum_node_activity.head(5))\n",
    "\n",
    "# Bottom 10 least active nodes\n",
    "sum_node_activity.tail(10)"
   ]
  },
  {
   "cell_type": "code",
   "execution_count": 54,
   "metadata": {},
   "outputs": [
    {
     "data": {
      "image/png": "[encoded data removed]",
      "text/plain": [
       "<matplotlib.figure.Figure at 0x1c2a61e438>"
      ]
     },
     "metadata": {},
     "output_type": "display_data"
    }
   ],
   "source": [
    "# Histogram of node activity for all 100 latent features\n",
    "sum_node_activity.hist()\n",
    "plt.xlabel('Activation Sum')\n",
    "plt.ylabel('Count');"
   ]
  },
  {
   "cell_type": "code",
   "execution_count": 55,
   "metadata": {},
   "outputs": [
    {
     "data": {
      "image/png": "[encoded data removed]",
      "text/plain": [
       "<matplotlib.figure.Figure at 0x1c8173bb38>"
      ]
     },
     "metadata": {},
     "output_type": "display_data"
    }
   ],
   "source": [
    "# Histogram of sample activity for all 10,000 samples\n",
    "encoded_rnaseq_df.sum(axis=1).hist()\n",
    "plt.xlabel('Sample Total Activation')\n",
    "plt.ylabel('Count');"
   ]
  },
  {
   "cell_type": "code",
   "execution_count": 56,
   "metadata": {},
   "outputs": [
    {
     "data": {
      "image/png": "[encoded data removed]",
      "text/plain": [
       "<matplotlib.figure.Figure at 0x1c7bc1e048>"
      ]
     },
     "metadata": {},
     "output_type": "display_data"
    }
   ],
   "source": [
    "# Example of node activation distribution for the first two latent features\n",
    "plt.figure(figsize=(6, 6))\n",
    "plt.scatter(encoded_rnaseq_df.iloc[:, 1], encoded_rnaseq_df.iloc[:, 2])\n",
    "plt.xlabel('Latent Feature 1')\n",
    "plt.ylabel('Latent Feature 2');"
   ]
  },
  {
   "cell_type": "code",
   "execution_count": 60,
   "metadata": {},
   "outputs": [
    {
     "data": {
      "text/html": [
       "<div>\n",
       "<style scoped>\n",
       "    .dataframe tbody tr th:only-of-type {\n",
       "        vertical-align: middle;\n",
       "    }\n",
       "\n",
       "    .dataframe tbody tr th {\n",
       "        vertical-align: top;\n",
       "    }\n",
       "\n",
       "    .dataframe thead th {\n",
       "        text-align: right;\n",
       "    }\n",
       "</style>\n",
       "<table border=\"1\" class=\"dataframe\">\n",
       "  <thead>\n",
       "    <tr style=\"text-align: right;\">\n",
       "      <th></th>\n",
       "      <th>Tspan12</th>\n",
       "      <th>Tshz1</th>\n",
       "      <th>Fnbp1l</th>\n",
       "      <th>Cldn12</th>\n",
       "      <th>Sema3c</th>\n",
       "      <th>Jam2</th>\n",
       "      <th>BC005764</th>\n",
       "      <th>Klhl13</th>\n",
       "      <th>Tnfaip8l3</th>\n",
       "      <th>Atp1b2</th>\n",
       "      <th>...</th>\n",
       "      <th>Phka2</th>\n",
       "      <th>Cdkl5</th>\n",
       "      <th>Rbbp7</th>\n",
       "      <th>Syap1</th>\n",
       "      <th>Ctps2</th>\n",
       "      <th>Trappc2</th>\n",
       "      <th>Rab9</th>\n",
       "      <th>Msl3</th>\n",
       "      <th>Vamp7</th>\n",
       "      <th>Uty</th>\n",
       "    </tr>\n",
       "  </thead>\n",
       "  <tbody>\n",
       "    <tr>\n",
       "      <th>0</th>\n",
       "      <td>0.019162</td>\n",
       "      <td>0.024121</td>\n",
       "      <td>0.035564</td>\n",
       "      <td>0.020632</td>\n",
       "      <td>0.027765</td>\n",
       "      <td>0.019612</td>\n",
       "      <td>0.016500</td>\n",
       "      <td>0.019509</td>\n",
       "      <td>0.014485</td>\n",
       "      <td>0.054063</td>\n",
       "      <td>...</td>\n",
       "      <td>0.017048</td>\n",
       "      <td>0.021317</td>\n",
       "      <td>0.039337</td>\n",
       "      <td>0.020351</td>\n",
       "      <td>0.019733</td>\n",
       "      <td>0.051962</td>\n",
       "      <td>0.072855</td>\n",
       "      <td>0.019812</td>\n",
       "      <td>0.053245</td>\n",
       "      <td>0.014956</td>\n",
       "    </tr>\n",
       "    <tr>\n",
       "      <th>1</th>\n",
       "      <td>0.020204</td>\n",
       "      <td>0.025293</td>\n",
       "      <td>0.036900</td>\n",
       "      <td>0.021375</td>\n",
       "      <td>0.028361</td>\n",
       "      <td>0.020664</td>\n",
       "      <td>0.017403</td>\n",
       "      <td>0.020756</td>\n",
       "      <td>0.015173</td>\n",
       "      <td>0.056262</td>\n",
       "      <td>...</td>\n",
       "      <td>0.017943</td>\n",
       "      <td>0.021953</td>\n",
       "      <td>0.040127</td>\n",
       "      <td>0.020990</td>\n",
       "      <td>0.020133</td>\n",
       "      <td>0.054454</td>\n",
       "      <td>0.073062</td>\n",
       "      <td>0.020634</td>\n",
       "      <td>0.055282</td>\n",
       "      <td>0.015963</td>\n",
       "    </tr>\n",
       "  </tbody>\n",
       "</table>\n",
       "<p>2 rows × 8851 columns</p>\n",
       "</div>"
      ],
      "text/plain": [
       "    Tspan12     Tshz1    Fnbp1l    Cldn12    Sema3c      Jam2  BC005764  \\\n",
       "0  0.019162  0.024121  0.035564  0.020632  0.027765  0.019612  0.016500   \n",
       "1  0.020204  0.025293  0.036900  0.021375  0.028361  0.020664  0.017403   \n",
       "\n",
       "     Klhl13  Tnfaip8l3    Atp1b2    ...        Phka2     Cdkl5     Rbbp7  \\\n",
       "0  0.019509   0.014485  0.054063    ...     0.017048  0.021317  0.039337   \n",
       "1  0.020756   0.015173  0.056262    ...     0.017943  0.021953  0.040127   \n",
       "\n",
       "      Syap1     Ctps2   Trappc2      Rab9      Msl3     Vamp7       Uty  \n",
       "0  0.020351  0.019733  0.051962  0.072855  0.019812  0.053245  0.014956  \n",
       "1  0.020990  0.020133  0.054454  0.073062  0.020634  0.055282  0.015963  \n",
       "\n",
       "[2 rows x 8851 columns]"
      ]
     },
     "execution_count": 60,
     "metadata": {},
     "output_type": "execute_result"
    }
   ],
   "source": [
    "# How well does the model reconstruct the input RNAseq data\n",
    "input_rnaseq_reconstruct = decoder.predict(np.array(encoded_rnaseq_df))\n",
    "input_rnaseq_reconstruct = pd.DataFrame(input_rnaseq_reconstruct, index=rnaseq_df.index,\n",
    "                                        columns=rnaseq_df.columns)\n",
    "input_rnaseq_reconstruct.head(2)"
   ]
  },
  {
   "cell_type": "code",
   "execution_count": 61,
   "metadata": {},
   "outputs": [
    {
     "data": {
      "text/html": [
       "<div>\n",
       "<style scoped>\n",
       "    .dataframe tbody tr th:only-of-type {\n",
       "        vertical-align: middle;\n",
       "    }\n",
       "\n",
       "    .dataframe tbody tr th {\n",
       "        vertical-align: top;\n",
       "    }\n",
       "\n",
       "    .dataframe thead th {\n",
       "        text-align: right;\n",
       "    }\n",
       "</style>\n",
       "<table border=\"1\" class=\"dataframe\">\n",
       "  <thead>\n",
       "    <tr style=\"text-align: right;\">\n",
       "      <th></th>\n",
       "      <th>gene mean</th>\n",
       "      <th>gene abs(sum)</th>\n",
       "    </tr>\n",
       "  </thead>\n",
       "  <tbody>\n",
       "    <tr>\n",
       "      <th>Plp1</th>\n",
       "      <td>-0.014648</td>\n",
       "      <td>0.261488</td>\n",
       "    </tr>\n",
       "    <tr>\n",
       "      <th>Trf</th>\n",
       "      <td>-0.007032</td>\n",
       "      <td>0.247301</td>\n",
       "    </tr>\n",
       "    <tr>\n",
       "      <th>Mal</th>\n",
       "      <td>-0.000214</td>\n",
       "      <td>0.229209</td>\n",
       "    </tr>\n",
       "    <tr>\n",
       "      <th>Apod</th>\n",
       "      <td>-0.002573</td>\n",
       "      <td>0.224493</td>\n",
       "    </tr>\n",
       "    <tr>\n",
       "      <th>Mog</th>\n",
       "      <td>-0.003362</td>\n",
       "      <td>0.224451</td>\n",
       "    </tr>\n",
       "  </tbody>\n",
       "</table>\n",
       "</div>"
      ],
      "text/plain": [
       "      gene mean  gene abs(sum)\n",
       "Plp1  -0.014648       0.261488\n",
       "Trf   -0.007032       0.247301\n",
       "Mal   -0.000214       0.229209\n",
       "Apod  -0.002573       0.224493\n",
       "Mog   -0.003362       0.224451"
      ]
     },
     "execution_count": 61,
     "metadata": {},
     "output_type": "execute_result"
    }
   ],
   "source": [
    "reconstruction_fidelity = rnaseq_df - input_rnaseq_reconstruct\n",
    "\n",
    "gene_mean = reconstruction_fidelity.mean(axis=0)\n",
    "gene_abssum = reconstruction_fidelity.abs().sum(axis=0).divide(rnaseq_df.shape[0])\n",
    "gene_summary = pd.DataFrame([gene_mean, gene_abssum], index=['gene mean', 'gene abs(sum)']).T\n",
    "gene_summary.sort_values(by='gene abs(sum)', ascending=False).head()"
   ]
  },
  {
   "cell_type": "code",
   "execution_count": 62,
   "metadata": {},
   "outputs": [
    {
     "data": {
      "image/png": "[encoded data removed]",
      "text/plain": [
       "<matplotlib.figure.Figure at 0x1c7bbd4860>"
      ]
     },
     "metadata": {},
     "output_type": "display_data"
    }
   ],
   "source": [
    "# Mean of gene reconstruction vs. absolute reconstructed difference per sample\n",
    "g = sns.jointplot('gene mean', 'gene abs(sum)', data=gene_summary, stat_func=None);"
   ]
  },
  {
   "cell_type": "code",
   "execution_count": null,
   "metadata": {},
   "outputs": [],
   "source": []
  }
 ],
 "metadata": {
  "kernelspec": {
   "display_name": "Python 3",
   "language": "python",
   "name": "python3"
  },
  "language_info": {
   "codemirror_mode": {
    "name": "ipython",
    "version": 3
   },
   "file_extension": ".py",
   "mimetype": "text/x-python",
   "name": "python",
   "nbconvert_exporter": "python",
   "pygments_lexer": "ipython3",
   "version": "3.6.3"
  }
 },
 "nbformat": 4,
 "nbformat_minor": 2
}
